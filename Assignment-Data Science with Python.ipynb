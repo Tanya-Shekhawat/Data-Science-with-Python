{
 "cells": [
  {
   "cell_type": "code",
   "execution_count": 43,
   "id": "640213c0",
   "metadata": {},
   "outputs": [],
   "source": [
    "import numpy as np "
   ]
  },
  {
   "cell_type": "markdown",
   "id": "60786563",
   "metadata": {},
   "source": [
    "# Q1: Write a code to combine  a one and a two-dimensional NumPy Array\n",
    "\n",
    "\n"
   ]
  },
  {
   "cell_type": "code",
   "execution_count": 44,
   "id": "782f32c3",
   "metadata": {},
   "outputs": [
    {
     "name": "stdout",
     "output_type": "stream",
     "text": [
      "[1 2 3 4]\n",
      "[[0, 2, 4, 8], [6, 10, 12, 18]]\n",
      "0:0\n",
      "1:1\n",
      "2:2\n",
      "3:3\n",
      "0:4\n",
      "1:5\n",
      "2:6\n",
      "3:7\n"
     ]
    }
   ],
   "source": [
    "#append( )is used to connect a new datafrfame to the end of a given dataframe, returning a new dataframe object\n",
    "\n",
    "\n",
    "\n",
    "l = np.array([1,2,3,4])   # create numpy array\n",
    "print(l)                  # view array\n",
    "m = [[0,2,4,8], [6,10,12,18]]  # create numpy array \n",
    "print(m)                   # view array\n",
    "for a, b in np.nditer([x,y]):\n",
    "    print(\"%d:%d\" % (a,b),)   \n",
    "\n"
   ]
  },
  {
   "cell_type": "markdown",
   "id": "f971aa40",
   "metadata": {},
   "source": [
    "# Q. 2. Write a code to check whether a Numpy array contains a specified row. "
   ]
  },
  {
   "cell_type": "code",
   "execution_count": 45,
   "id": "bae9730f",
   "metadata": {},
   "outputs": [
    {
     "name": "stdout",
     "output_type": "stream",
     "text": [
      "[[ 1  2  3  4  5]\n",
      " [ 6  7  8  9 10]\n",
      " [11 12 13 14 15]]\n",
      "True\n",
      "False\n",
      "False\n",
      "True\n"
     ]
    }
   ],
   "source": [
    "# importing package\n",
    "import numpy\n",
    "\n",
    "\n",
    "arr = numpy.array([[1, 2, 3, 4, 5],   # create numpy array\n",
    "                [6, 7, 8, 9, 10],\n",
    "                [11, 12, 13, 14, 15]\n",
    "                ])\n",
    "print(arr)  # view array\n",
    "\n",
    "# check for some lists\n",
    "print([1, 2, 3, 4, 5] in arr.tolist())\n",
    "print([16, 17, 25, 19, 20] in arr.tolist())\n",
    "print([3, 2, -5, -4, 45] in arr.tolist())\n",
    "print([11, 12, 13, 14, 15] in arr.tolist())\n",
    "\n"
   ]
  },
  {
   "cell_type": "markdown",
   "id": "42b814d2",
   "metadata": {},
   "source": [
    "# Q. 3.  Write a Pandas code to create and display a DataFrame from a specified dictionary data which has the index labels"
   ]
  },
  {
   "cell_type": "code",
   "execution_count": 46,
   "id": "b5711dba",
   "metadata": {},
   "outputs": [],
   "source": [
    "import pandas as pd"
   ]
  },
  {
   "cell_type": "code",
   "execution_count": 47,
   "id": "2a0134de",
   "metadata": {},
   "outputs": [
    {
     "name": "stdout",
     "output_type": "stream",
     "text": [
      "         Name  Age  Class\n",
      "Details  John   10      1\n"
     ]
    }
   ],
   "source": [
    "#Creating dataframe from dictionary\n",
    "d1 = {\" Name\" : \"John\",\n",
    "      \"Age\" :10, \n",
    "      \"Class\" : 1  \n",
    "     }\n",
    "# Create the pandas DataFrame\n",
    "dfz = pd.DataFrame(d1,index = [\"Details\"])\n",
    "# print dataframe.\n",
    "print(dfz)"
   ]
  },
  {
   "cell_type": "markdown",
   "id": "a40c6dea",
   "metadata": {},
   "source": [
    "# Q. 4.Write a pandas code to create DataFrame from dict of narray/lists"
   ]
  },
  {
   "cell_type": "code",
   "execution_count": 48,
   "id": "2270cd65",
   "metadata": {},
   "outputs": [
    {
     "name": "stdout",
     "output_type": "stream",
     "text": [
      "      distance  speed\n",
      "car1       500     60\n",
      "car2       450     40\n",
      "car3       350     55\n"
     ]
    }
   ],
   "source": [
    "#Creating dataframe from dictionary of lists\n",
    "\n",
    "data1 = {\n",
    "  \"distance\": [500, 450, 350],\n",
    "  \"speed\": [60, 40, 55]\n",
    "}\n",
    "\n",
    "#load data into a DataFrame object:\n",
    "\n",
    "df = pd.DataFrame(data1, index = [\"car1\",\"car2\", \"car3\"])\n",
    "# print dataframe.\n",
    "print(df)"
   ]
  },
  {
   "cell_type": "markdown",
   "id": "0d875635",
   "metadata": {},
   "source": [
    "# Q. 5. Write a pandas code to create Pandas dataframe using list of lists"
   ]
  },
  {
   "cell_type": "code",
   "execution_count": 49,
   "id": "3270960f",
   "metadata": {},
   "outputs": [
    {
     "name": "stdout",
     "output_type": "stream",
     "text": [
      "       Song Name    Genere  Singer\n",
      "0       Universe       R&B  LOOΠΔ/\n",
      "1  Pale bule dot  Euphoria  LOOΠΔ/\n",
      "2       Playback     Metal  LOOΠΔ/\n",
      "3           Oops      Rock  LOOΠΔ/\n",
      "4      F!ip That    Dreamy  LOOΠΔ/\n",
      "5            New       R&B  LOOΠΔ/\n"
     ]
    }
   ],
   "source": [
    " \n",
    "# initialize list of lists\n",
    "data = [['Universe', 'R&B', 'LOOΠΔ/'], ['Pale bule dot', 'Euphoria', 'LOOΠΔ/'], ['Playback', 'Metal', 'LOOΠΔ/'],\n",
    "        ['Oops', 'Rock', 'LOOΠΔ/'], ['F!ip That', 'Dreamy', 'LOOΠΔ/'], ['New', 'R&B', 'LOOΠΔ/'], ]\n",
    " \n",
    "# Create the pandas DataFrame\n",
    "df = pd.DataFrame(data, columns = ['Song Name', 'Genere', 'Singer'])\n",
    " \n",
    "# print dataframe.\n",
    "print(df )"
   ]
  },
  {
   "cell_type": "code",
   "execution_count": null,
   "id": "1e593ebb",
   "metadata": {},
   "outputs": [],
   "source": []
  }
 ],
 "metadata": {
  "kernelspec": {
   "display_name": "Python 3 (ipykernel)",
   "language": "python",
   "name": "python3"
  },
  "language_info": {
   "codemirror_mode": {
    "name": "ipython",
    "version": 3
   },
   "file_extension": ".py",
   "mimetype": "text/x-python",
   "name": "python",
   "nbconvert_exporter": "python",
   "pygments_lexer": "ipython3",
   "version": "3.9.12"
  }
 },
 "nbformat": 4,
 "nbformat_minor": 5
}
